{
  "nbformat": 4,
  "nbformat_minor": 0,
  "metadata": {
    "colab": {
      "provenance": []
    },
    "kernelspec": {
      "name": "python3",
      "display_name": "Python 3"
    },
    "language_info": {
      "name": "python"
    }
  },
  "cells": [
    {
      "cell_type": "code",
      "source": [
        "#MORSE CODE TO TEXT/TEXT TO MORSE CODE CONVERTER\n",
        "\n",
        "# Dictionary representing the morse code chart\n",
        "MORSE_CODE_DICT = { 'A':'.-', 'B':'-...',\n",
        "\t\t\t\t\t'C':'-.-.', 'D':'-..', 'E':'.',\n",
        "\t\t\t\t\t'F':'..-.', 'G':'--.', 'H':'....',\n",
        "\t\t\t\t\t'I':'..', 'J':'.---', 'K':'-.-',\n",
        "\t\t\t\t\t'L':'.-..', 'M':'--', 'N':'-.',\n",
        "\t\t\t\t\t'O':'---', 'P':'.--.', 'Q':'--.-',\n",
        "\t\t\t\t\t'R':'.-.', 'S':'...', 'T':'-',\n",
        "\t\t\t\t\t'U':'..-', 'V':'...-', 'W':'.--',\n",
        "\t\t\t\t\t'X':'-..-', 'Y':'-.--', 'Z':'--..',\n",
        "\t\t\t\t\t'1':'.----', '2':'..---', '3':'...--',\n",
        "\t\t\t\t\t'4':'....-', '5':'.....', '6':'-....',\n",
        "\t\t\t\t\t'7':'--...', '8':'---..', '9':'----.',\n",
        "\t\t\t\t\t'0':'-----', ', ':'--..--', '.':'.-.-.-',\n",
        "\t\t\t\t\t'?':'..--..', '/':'-..-.', '-':'-....-',\n",
        "\t\t\t\t\t'(':'-.--.', ')':'-.--.-'}\n",
        "\n",
        "\n",
        "def encrypt(message):\n",
        "\tcipher = ''\n",
        "\tfor letter in message:\n",
        "\t\tif letter != ' ':\n",
        "\n",
        "\n",
        "\t\t\tcipher += MORSE_CODE_DICT[letter] + ' '\n",
        "\t\telse:\n",
        "\n",
        "\t\t\tcipher += ' '\n",
        "\n",
        "\treturn cipher\n",
        "\n",
        "\n",
        "def decrypt(message):\n",
        "\n",
        "\n",
        "\tmessage += ' '\n",
        "\n",
        "\tdecipher = ''\n",
        "\tcitext = ''\n",
        "\tfor letter in message:\n",
        "\n",
        "\n",
        "\t\tif (letter != ' '):\n",
        "\n",
        "\n",
        "\t\t\ti = 0\n",
        "\n",
        "\n",
        "\t\t\tcitext += letter\n",
        "\n",
        "\n",
        "\t\telse:\n",
        "\n",
        "\t\t\ti += 1\n",
        "\n",
        "\n",
        "\t\t\tif i == 2 :\n",
        "\n",
        "\n",
        "\t\t\t\tdecipher += ' '\n",
        "\t\t\telse:\n",
        "\n",
        "\n",
        "\t\t\t\tdecipher += list(MORSE_CODE_DICT.keys())[list(MORSE_CODE_DICT\n",
        "\t\t\t\t.values()).index(citext)]\n",
        "\t\t\t\tcitext = ''\n",
        "\n",
        "\treturn decipher\n",
        "\n",
        "\n",
        "def main():\n",
        "\tmessage = input(\"Enter a message: \")\n",
        "\tresult = encrypt(message.upper())\n",
        "\tprint (result)\n",
        "\n",
        "\tmessage = input(\"Enter the MORSE CODE: \")\n",
        "\tresult = decrypt(message)\n",
        "\tprint (result)\n",
        "\n",
        "# Executes the main function\n",
        "if __name__ == '__main__':\n",
        "\tmain()\n"
      ],
      "metadata": {
        "colab": {
          "base_uri": "https://localhost:8080/"
        },
        "id": "Br9GbaKTcRoR",
        "outputId": "d3788a99-3a02-497b-852d-c3f7b2cdcf0b"
      },
      "execution_count": 25,
      "outputs": [
        {
          "output_type": "stream",
          "name": "stdout",
          "text": [
            "Enter a message: keshav\n",
            "-.- . ... .... .- ...- \n",
            "Enter the MORSE CODE: ..-\n",
            "U\n"
          ]
        }
      ]
    }
  ]
}